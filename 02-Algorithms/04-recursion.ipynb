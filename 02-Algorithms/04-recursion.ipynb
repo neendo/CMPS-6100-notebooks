{
 "cells": [
  {
   "attachments": {},
   "cell_type": "markdown",
   "metadata": {},
   "source": [
    "# Recursion\n",
    "\n",
    "To continue our discussion of algorithms, we must first take a quick break and return to programming. It is often useful and natural to want to have a function call on itself. This is known as **recursion**, and using this technique will make algorithm design and analysis simpler in many cases.\n",
    "\n",
    "In this section, we will introduce recursion and then revisit selection sort leveraging this technique."
   ]
  },
  {
   "attachments": {},
   "cell_type": "markdown",
   "metadata": {},
   "source": [
    "## Example Factorial\n",
    "\n",
    "The factorial of a number $n$ can be defined as:\n",
    "\n",
    "$$\n",
    "F(n) =\n",
    "\\begin{cases}\n",
    "  1  & \\text{if}~~~~ 0<=n<=1 \\\\\n",
    "  n*F(n-1)  & \\text{otherwise} \\\\\n",
    "\\end{cases}\n",
    "$$"
   ]
  },
  {
   "attachments": {},
   "cell_type": "markdown",
   "metadata": {},
   "source": [
    "The mathematical definition leads suggests precisely an implementation:"
   ]
  },
  {
   "cell_type": "code",
   "execution_count": 1,
   "metadata": {},
   "outputs": [
    {
     "data": {
      "text/plain": [
       "6"
      ]
     },
     "execution_count": 1,
     "metadata": {},
     "output_type": "execute_result"
    }
   ],
   "source": [
    "def factorial(n):\n",
    "    if(n <= 1):\n",
    "        return 1\n",
    "    return n*factorial(n-1)\n",
    "\n",
    "factorial(3)"
   ]
  },
  {
   "attachments": {},
   "cell_type": "markdown",
   "metadata": {},
   "source": [
    "## Recursive Break Down\n",
    "\n",
    "Every recursive function has two parts:\n",
    "\n",
    "1) One or more base cases\n",
    "2) A recursive step\n",
    "\n",
    "Base cases are cases where the answer can be returned without any more computation.\n",
    "\n",
    "The recursive step recursively calls on the function, working its way down to the base case(s).\n",
    "\n",
    "For factorial,\n",
    "\n",
    "$F(3)$ executes $3*F(2)$\n",
    "\n",
    "$F(2)$ executes $2*F(1)$\n",
    "\n",
    "$F(1)$ returns $1$ back up as the answer for the $F(1)$ call.\n",
    "\n",
    "$2*1$ gets returned as the answer for the $F(2)$ call.\n",
    "\n",
    "$3*2$ gets returned as the answer for the original $F(3)$ call."
   ]
  },
  {
   "attachments": {},
   "cell_type": "markdown",
   "metadata": {},
   "source": [
    "# Where is Recursion Applicable?\n",
    "\n",
    "In factorial, we are using recursion to repeat the same set of steps on smaller instances of the same problem working our way down from factorial of 3 to 2 to 1.\n",
    "\n",
    "In general, recursion is applicable to any problem where the next step is to apply the same process to a smaller instance of the same problem.\n",
    "\n",
    "It turns out to be widely applicable and in practice, we can take any problem that we could solve with a loop and implement it instead using recursion."
   ]
  },
  {
   "attachments": {},
   "cell_type": "markdown",
   "metadata": {},
   "source": [
    "## Example: String Equality\n",
    "\n",
    "Given two strings, return `True` if they contain the same characters and `False` otherwise.\n",
    "\n",
    "First, implement this iteratively. That is, implement a function that takes two strings as parameters and returns `True` if they are equal, `False` otherwise. Implement it by looping over all characters, checking to see if each pair are the same."
   ]
  },
  {
   "cell_type": "code",
   "execution_count": 5,
   "metadata": {},
   "outputs": [
    {
     "name": "stdout",
     "output_type": "stream",
     "text": [
      "False\n"
     ]
    }
   ],
   "source": [
    "def identical(string1, string2):\n",
    "\n",
    "    same_string = True \n",
    "    for char in string1:\n",
    "        char_index = string1.index(char)\n",
    "        if string2[char_index] != char:\n",
    "            same_string = False\n",
    "        if same_string == False:\n",
    "            break\n",
    "    \n",
    "    return same_string\n",
    "\n",
    "string1 = \"potato\"\n",
    "string2 = \"potAto\"\n",
    "\n",
    "string_check = identical(string1, string2)\n",
    "print(string_check)"
   ]
  },
  {
   "attachments": {},
   "cell_type": "markdown",
   "metadata": {},
   "source": [
    "Now, lets do it recursively.\n",
    "\n",
    "First we will note that if two strings are not the same length, they can not be equal. \n",
    "\n",
    "Assuming strings of equal length, you can note that in your iterative implementation, you started by comparing the characters at index 0 in each string. Then you moved on to index 1.\n",
    "\n",
    "Keeping this in mind, we can make the obvious observation that two strings are equal if their first characters are equal and if everything after that is equal as well. If the first characters are not equal, then obviously the two strings can not be equal.\n",
    "\n",
    "This suggests a recursive step.\n",
    "\n",
    "```python\n",
    "def str_equals(string1, string2):\n",
    "    # Length Check\n",
    "    if len(string1) != len(string2):\n",
    "        return False\n",
    "\n",
    "    # BASE CASE MISSING\n",
    "\n",
    "    # Recusive Step\n",
    "    if string1[0] == string2[0]:\n",
    "        return str_equals(string1[1:], string2[1:])\n",
    "    else:\n",
    "        return False\n",
    "```\n"
   ]
  },
  {
   "attachments": {},
   "cell_type": "markdown",
   "metadata": {},
   "source": [
    "\n",
    "But then what is the base case?\n",
    "\n",
    "Well, at each recursive call, we are working our way from the front of the string to the end. At each step, the strings are getting shorter by 1 character.\n",
    "\n",
    "Eventually, we will get to empty strings which by definition are equal.\n",
    "\n",
    "Putting it all together, implement `str_equals(string1, string2)` and verify that it works:"
   ]
  },
  {
   "cell_type": "code",
   "execution_count": 10,
   "metadata": {},
   "outputs": [
    {
     "name": "stdout",
     "output_type": "stream",
     "text": [
      "True\n"
     ]
    }
   ],
   "source": [
    "def str_equals(string1, string2):\n",
    "    # Length Check\n",
    "    if len(string1) != len(string2):\n",
    "        return False\n",
    "    #Base case\n",
    "    if string1 == string2 == \"\":\n",
    "        return True\n",
    "    #Recursive step\n",
    "    if string1[0] == string2[0]:\n",
    "        return str_equals(string1[1:], string2[1:])\n",
    "    else:\n",
    "        return False\n",
    "    \n",
    "test = str_equals(\"potato\", \"potato\")\n",
    "\n",
    "print(test)"
   ]
  },
  {
   "attachments": {},
   "cell_type": "markdown",
   "metadata": {},
   "source": [
    "## Practice\n"
   ]
  },
  {
   "attachments": {},
   "cell_type": "markdown",
   "metadata": {},
   "source": [
    "### `remove`\n",
    "\n",
    "Write a function `remove(x, s)` using recursion that returns a string the same as `s`, but with no `x` characters in it. For example, here is how you can use your function.\n",
    "\n",
    "```python\n",
    "k = remove('t', 'wait a minute')\n",
    "print(k)\n",
    "```\n",
    "output:\n",
    "\n",
    "`'wai a minue'`"
   ]
  },
  {
   "cell_type": "code",
   "execution_count": 4,
   "metadata": {},
   "outputs": [
    {
     "name": "stdout",
     "output_type": "stream",
     "text": [
      "ai a minue\n"
     ]
    }
   ],
   "source": [
    "def remove(x, s):\n",
    "    if not s:\n",
    "        return \"\"\n",
    "    if x == s[0]:\n",
    "        return remove(x, s[1:])\n",
    "    else:\n",
    "        return s[0] + remove(x, s[1:])\n",
    "    \n",
    "k = remove(\"t\", \"tait a minute\")\n",
    "print(k)"
   ]
  },
  {
   "attachments": {},
   "cell_type": "markdown",
   "metadata": {},
   "source": [
    "### `fib`\n",
    "\n",
    "The fibonacci sequence is defined as follows.\n",
    "\n",
    "The first two numbers are:\n",
    "\n",
    "$0, 1$\n",
    "\n",
    "Every subsequent number is the sum of the previous two.\n",
    "\n",
    "Implement a function `fib` which takes in a number `n` and returns the $n^{th}$ fibonacci number. The $0^{th}$ fibonacci number is $0$, the $1^{st}$ fibonacci number is $1$, and so on.\n",
    "\n",
    "Implement fibonacci two ways. In the first, implement it recursively. Once done with that, implement it iteratively using a loop."
   ]
  },
  {
   "cell_type": "code",
   "execution_count": 5,
   "metadata": {},
   "outputs": [
    {
     "name": "stdout",
     "output_type": "stream",
     "text": [
      "55\n",
      "55\n"
     ]
    }
   ],
   "source": [
    "def fib_rec(n):\n",
    "    if n == 0:\n",
    "        return 0\n",
    "    if n == 1:\n",
    "        return 1\n",
    "    else:\n",
    "        return fib_rec(n - 1) + fib_rec(n - 2)\n",
    "    \n",
    "def fib_loop(n):\n",
    "    if n == 0:\n",
    "        return 0\n",
    "    if n == 1:\n",
    "        return 1\n",
    "    \n",
    "    a, b = 0, 1\n",
    "    for i in range (2, n + 1):\n",
    "        a, b = b, a + b\n",
    "\n",
    "    return b\n",
    "\n",
    "x = fib_rec(10)\n",
    "y = fib_loop(10)\n",
    "\n",
    "print(x)\n",
    "print(y)\n",
    "        "
   ]
  },
  {
   "attachments": {},
   "cell_type": "markdown",
   "metadata": {},
   "source": [
    "## Selection Sort\n",
    "\n",
    "Recall Selection Sort. For each position, select the element that belongs there by finding the smallest element from that position to the end of the list and swap it into place.\n",
    "\n",
    "We can implement it recursively as well.\n"
   ]
  },
  {
   "attachments": {},
   "cell_type": "markdown",
   "metadata": {},
   "source": [
    "### Selection Sort Recursive\n",
    "\n",
    "For the base case, an empty list or a list of size 1 is by definition sorted. In either case, just return the list.\n",
    "\n",
    "For the recursive step, first swap the smallest element in the list into index 0. Then, the sorted list consists of that element concatenated with the sorted list of everything that follows it."
   ]
  },
  {
   "cell_type": "code",
   "execution_count": 10,
   "metadata": {},
   "outputs": [
    {
     "name": "stdout",
     "output_type": "stream",
     "text": [
      "L=[2, 1, 999, 4, 3]\n",
      "L=[2, 999, 4, 3]\n",
      "L=[999, 4, 3]\n",
      "L=[4, 999]\n",
      "L=[999]\n"
     ]
    },
    {
     "data": {
      "text/plain": [
       "[1, 2, 3, 4, 999]"
      ]
     },
     "execution_count": 10,
     "metadata": {},
     "output_type": "execute_result"
    }
   ],
   "source": [
    "def selection_sort_recursive(L):\n",
    "    print('L={}'.format(L))\n",
    "    if (len(L) <= 1):\n",
    "        return(L)\n",
    "    else:\n",
    "        m = L.index(min(L))\n",
    "        L[0], L[m] = L[m], L[0]\n",
    "        return [L[0]] + selection_sort_recursive(L[1:])\n",
    "    \n",
    "selection_sort_recursive([2, 1, 999, 4, 3])"
   ]
  },
  {
   "attachments": {},
   "cell_type": "markdown",
   "metadata": {},
   "source": [
    "### Analysis\n",
    "\n",
    "How do we analyze this recursive implementation?\n",
    "\n",
    "We can write an equation that captures the **work** of the function.\n",
    "\n",
    "> Recall that the **work** of an algorithm is the number of operations performed by it.\n",
    "\n",
    "Suppose we call `selection_sort_recursive` on a list of size $n$.\n",
    "\n",
    "The work of that call is thus $n$ for the cost of find the min in the list plus the work of sorting a list of size $n-1$:\n",
    "\n",
    "$W(n) = W(n-1) + n$"
   ]
  },
  {
   "attachments": {},
   "cell_type": "markdown",
   "metadata": {},
   "source": [
    "What is the work of sorting a list of size $n-1$?\n",
    "\n",
    "$W(n-1) = W(n-2) + (n-1)$\n",
    "\n",
    "And we can keep working our way down."
   ]
  },
  {
   "attachments": {},
   "cell_type": "markdown",
   "metadata": {},
   "source": [
    "#### Putting it all together\n",
    "\n",
    "$\n",
    "\\begin{align}\n",
    "W(n) &= W(n-1) + n \\\\\n",
    "&= W(n-2) + (n - 1) + n \\\\\n",
    "&= W(n-3) + (n - 2) + (n - 1) + n \\\\\n",
    "&= ... \\\\\n",
    "&= \\sum_{i=1}^n i  \\\\\n",
    "&= \\frac{n(n+1)}{2} \\\\\n",
    "&= \\Theta(n^2).\n",
    "\\end{align}$\n",
    "\n"
   ]
  },
  {
   "attachments": {},
   "cell_type": "markdown",
   "metadata": {},
   "source": [
    "Which is exactly what we got in our previous analysis."
   ]
  },
  {
   "attachments": {},
   "cell_type": "markdown",
   "metadata": {},
   "source": [
    "## Recurrences\n",
    "\n",
    "Our equation for the work of Selection Sort Recursive was naturally recursive itself. Such equations are known as **recurrences**.\n",
    "\n",
    "It had two terms, one representing the work within an individual function call (the $n$ term) and the other representing the work by the next recursive call (the $W(n-1)$ term).\n",
    "\n",
    "In the case of selection sort, we were able to expand it and solve it. We noticed that it expanded to be the sum of all integers from $1$ to $n$ which is a well known summation.\n"
   ]
  },
  {
   "attachments": {},
   "cell_type": "markdown",
   "metadata": {},
   "source": [
    "## Practice\n",
    "\n",
    "### Linear Search\n",
    "\n",
    "Just as we wrote a recursive implementation of Selection Sort and analyzed it using recurrences, we can do the same for Linear Search.\n",
    "\n",
    "#### Implementation\n",
    "\n",
    "Implement `linear_search_recursive(lst, key)` which takes in a list `lst` and returns `True` if `key` is in the list and `False` otherwise."
   ]
  },
  {
   "cell_type": "code",
   "execution_count": 10,
   "metadata": {},
   "outputs": [
    {
     "name": "stdout",
     "output_type": "stream",
     "text": [
      "True\n"
     ]
    }
   ],
   "source": [
    "def linear_search_recursive(lst, key):\n",
    "    if len(lst) == 0:\n",
    "        return False\n",
    "    if key == lst[0]:\n",
    "        return True\n",
    "    else:\n",
    "        return linear_search_recursive(lst[1:], key)\n",
    "\n",
    "lst = [1, 4, 5, 77, 2, 3, 44, 53]\n",
    "key = 53\n",
    "test = linear_search_recursive(lst, key)\n",
    "\n",
    "print(test)"
   ]
  },
  {
   "attachments": {},
   "cell_type": "markdown",
   "metadata": {},
   "source": [
    "#### Analysis\n",
    "\n",
    "With your implementation complete, now write down and solve a recurrence for its runtime as we did for Selection Sort above."
   ]
  },
  {
   "attachments": {},
   "cell_type": "markdown",
   "metadata": {},
   "source": [
    "## Where we go from here\n",
    "\n",
    "Selection Sort and Linear Search are just first examples, but many algorithms are naturally recursive or can be written recursively, and expressing and evaluating recurrences is a standard and extremely useful process for determining their runtimes. \n",
    "\n",
    "We will see more about recurrences soon. Right now, it may seem pretty tedious to expand them, and like we may have just been lucky that it expanded out to such a simple sum, but we will build standard processes for solving recurrences. Recurrences, and the processes to solve them, will not only allow you to solve for the runtimes many, many algorithms, but they will also make you a better algorithm designer and problem solver as you will build an intuitive sense for why some algorithms are more or less efficient than others."
   ]
  }
 ],
 "metadata": {
  "kernelspec": {
   "display_name": "Python 3",
   "language": "python",
   "name": "python3"
  },
  "language_info": {
   "codemirror_mode": {
    "name": "ipython",
    "version": 3
   },
   "file_extension": ".py",
   "mimetype": "text/x-python",
   "name": "python",
   "nbconvert_exporter": "python",
   "pygments_lexer": "ipython3",
   "version": "3.12.5"
  },
  "orig_nbformat": 4,
  "vscode": {
   "interpreter": {
    "hash": "aee8b7b246df8f9039afb4144a1f6fd8d2ca17a180786b69acc140d282b71a49"
   }
  }
 },
 "nbformat": 4,
 "nbformat_minor": 2
}
